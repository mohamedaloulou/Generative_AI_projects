{
  "nbformat": 4,
  "nbformat_minor": 0,
  "metadata": {
    "colab": {
      "provenance": [],
      "gpuType": "T4"
    },
    "kernelspec": {
      "name": "python3",
      "display_name": "Python 3"
    },
    "language_info": {
      "name": "python"
    }
  },
  "cells": [
    {
      "cell_type": "code",
      "execution_count": null,
      "metadata": {
        "colab": {
          "base_uri": "https://localhost:8080/"
        },
        "id": "ys_s3RD-LNxi",
        "outputId": "12ed35c7-ceab-4457-a870-51b7dd0932fd"
      },
      "outputs": [
        {
          "output_type": "stream",
          "name": "stdout",
          "text": [
            "data has 99992 characters, 61 unique.\n"
          ]
        }
      ],
      "source": [
        "import numpy as np\n",
        "\n",
        "# data I/O\n",
        "data = open('/content/sample_data/shakespear.txt', 'r').read()  # assuming it's a simple plain text file\n",
        "data = data.replace('\\n', ' ')  # Remove newline characters\n",
        "chars = list(set(data))\n",
        "data_size, vocab_size = len(data), len(chars)\n",
        "print('data has %d characters, %d unique.' % (data_size, vocab_size))\n",
        "char_to_ix = {ch: i for i, ch in enumerate(chars)}\n",
        "ix_to_char = {i: ch for i, ch in enumerate(chars)}\n"
      ]
    },
    {
      "cell_type": "code",
      "source": [
        "from collections import Counter\n",
        "char_occurrences = Counter(data)\n",
        "total_length = len(data)\n",
        "char_prob= {char: count / total_length for char, count in char_occurrences.items()}\n",
        "len(char_prob)"
      ],
      "metadata": {
        "colab": {
          "base_uri": "https://localhost:8080/"
        },
        "id": "o4HC0Kkp26gL",
        "outputId": "4b7ce71b-a811-4539-c977-aed8af62a3d4"
      },
      "execution_count": null,
      "outputs": [
        {
          "output_type": "execute_result",
          "data": {
            "text/plain": [
              "61"
            ]
          },
          "metadata": {},
          "execution_count": 2
        }
      ]
    },
    {
      "cell_type": "code",
      "source": [
        "seq_length = 61 # number of steps to unroll the RNN for\n",
        "p=0\n",
        "targets = [char_to_ix[ch] for ch in data[p+1:p+seq_length+1]]\n",
        "real_y=[char_prob[ch] for ch in data[p+1:p+seq_length+1]]"
      ],
      "metadata": {
        "id": "iOaPdnZf34Ec"
      },
      "execution_count": null,
      "outputs": []
    },
    {
      "cell_type": "code",
      "source": [
        "# hyperparameters\n",
        "hidden_size = 200 # size of hidden layer of neurons\n",
        "hidden_size2 = 100\n",
        "hidden_size3 = 50\n",
        "learning_rate = 1e-1"
      ],
      "metadata": {
        "id": "uCp982oNC4tz"
      },
      "execution_count": null,
      "outputs": []
    },
    {
      "cell_type": "code",
      "source": [
        "def he_initialization(input_units, output_units):\n",
        "    stddev = np.sqrt(2 / input_units)\n",
        "    return np.random.randn(output_units, input_units) * stddev"
      ],
      "metadata": {
        "id": "ogfs16qts2PA"
      },
      "execution_count": null,
      "outputs": []
    },
    {
      "cell_type": "code",
      "source": [
        "# model parameters\n",
        "Wxh = he_initialization(vocab_size, hidden_size)*0.01\n",
        "Wxh2 = he_initialization(hidden_size, hidden_size2)\n",
        "Wxh3 = he_initialization(hidden_size2, hidden_size3)\n",
        "Whh = he_initialization(hidden_size, hidden_size)*0.01\n",
        "Whh2 = he_initialization(hidden_size2, hidden_size2)\n",
        "Whh3 = he_initialization(hidden_size3, hidden_size3)\n",
        "Why = he_initialization(hidden_size3, vocab_size)\n",
        "bh = np.ones((hidden_size, 1)) # hidden bias\n",
        "bh2 = np.ones((hidden_size2, 1)) # hidden bias\n",
        "bh3 = np.ones((hidden_size3, 1)) # hidden bias\n",
        "by = np.ones((vocab_size, 1)) # output bias"
      ],
      "metadata": {
        "id": "MgVU5iLHL2Rr"
      },
      "execution_count": null,
      "outputs": []
    },
    {
      "cell_type": "code",
      "source": [
        "def lossFun(inputs, targets, hprev, hprev2, hprev3):\n",
        "    \"\"\"\n",
        "    inputs, targets are both lists of integers.\n",
        "    hprev is Hx1 array of initial hidden state\n",
        "    returns the loss, gradients on model parameters, and last hidden state\n",
        "    \"\"\"\n",
        "    xs, hs, hs2, hs3, ys, ps = {}, {}, {}, {}, {}, {}\n",
        "    hs[-1] = np.copy(hprev)\n",
        "    hs2[-1] = np.copy(hprev2)\n",
        "    hs3[-1] = np.copy(hprev3)\n",
        "    loss = 0\n",
        "    # forward pass\n",
        "    for t in range(len(inputs)):\n",
        "        xs[t] = np.zeros((vocab_size, 1))  # encode in 1-of-k representation\n",
        "        xs[t][inputs[t]] = 1\n",
        "        hs[t] = np.tanh(np.dot(Wxh, xs[t]) + np.dot(Whh, hs[t - 1]) + bh)  # hidden state\n",
        "        hs2[t] = np.tanh(np.dot(Wxh2, hs[t]) + np.dot(Whh2, hs2[t - 1]) + bh2)  # hidden state with ReLU\n",
        "        hs3[t] = np.tanh(np.dot(Wxh3, hs2[t]) + np.dot(Whh3, hs3[t - 1]) + bh3)  # hidden state with ReLU\n",
        "        ys[t] = np.dot(Why, hs3[t]) + by  # unnormalized log probabilities for next chars\n",
        "        ps[t] = np.exp(ys[t]) / np.sum(np.exp(ys[t]))  # probabilities for next chars\n",
        "        loss += -np.log(ps[t][targets[t], 0])  # softmax (cross-entropy loss)\n",
        "    # backward pass: compute gradients going backwards\n",
        "    dWxh, dWhh, dWhy = np.zeros_like(Wxh), np.zeros_like(Whh), np.zeros_like(Why)\n",
        "    dWxh2, dWhh2, dWxh3, dWhh3 = np.zeros_like(Wxh2), np.zeros_like(Whh2), np.zeros_like(Wxh3), np.zeros_like(Whh3)\n",
        "    dbh, dbh2, dbh3, dby = np.zeros_like(bh), np.zeros_like(bh2), np.zeros_like(bh3), np.zeros_like(by)\n",
        "    dhnext = np.zeros_like(hs[0])\n",
        "    dhnext2 = np.zeros_like(hs2[0])\n",
        "    dhnext3 = np.zeros_like(hs3[0])\n",
        "    for t in reversed(range(len(inputs))):\n",
        "        dy = np.copy(ps[t])# backprop into y\n",
        "        dy[targets[t]] -= 1\n",
        "        # Backpropagation through the output layer\n",
        "        dWhy += np.dot(dy, hs3[t].T)\n",
        "        dby += dy\n",
        "\n",
        "        # backprop into hs3\n",
        "        dh3 = np.dot(Why.T, dy) + dhnext3\n",
        "        dhraw3 = (1 - hs3[t] * hs3[t]) * dh3\n",
        "        dbh3 += dhraw3\n",
        "        dWxh3 += np.dot(dhraw3, hs2[t].T)\n",
        "        dWhh3 += np.dot(dhraw3, hs3[t - 1].T)\n",
        "        dhnext3 = np.dot(Whh3.T, dhraw3)\n",
        "\n",
        "        # backprop into hs2\n",
        "        dh2 = np.dot(Wxh3.T,dh3)+ dhnext2\n",
        "        dhraw2 = (1 - hs2[t] * hs2[t])* dh2\n",
        "        dbh2 += dhraw2\n",
        "        dWxh2 += np.dot(dhraw2, hs[t].T)\n",
        "        dWhh2 += np.dot(dhraw2, hs2[t - 1].T)\n",
        "        dhnext2 = np.dot(Whh2.T, dhraw2)\n",
        "\n",
        "        # backprop into hs1\n",
        "        dh = np.dot(Wxh2.T,dh2)+ dhnext\n",
        "        dhraw = (1 - hs[t] * hs[t])*dh\n",
        "        dbh += dhraw\n",
        "        dWxh += np.dot(dhraw, xs[t].T)\n",
        "        dWhh += np.dot(dhraw, hs[t - 1].T)\n",
        "        dhnext = np.dot(Whh.T, dhraw)\n",
        "\n",
        "    for dparam in [dWxh, dWhh, dWhy, dbh, dby, dWxh2, dWhh2, dWxh3, dWhh3, dbh2, dbh3]:\n",
        "        np.clip(dparam, -5, 5, out=dparam)  # clip to mitigate exploding gradients\n",
        "    return loss, dWxh,dWxh2,dWxh3, dWhh,dWhh2,dWhh3, dWhy, dbh,dbh2,dbh3, dby, hs[len(inputs) - 1], hs2[len(inputs) - 1], hs3[len(inputs) - 1]\n"
      ],
      "metadata": {
        "id": "wJ73E24jMiZW"
      },
      "execution_count": null,
      "outputs": []
    },
    {
      "cell_type": "code",
      "source": [
        "def sample(h,h2,h3,seed_ix, n):\n",
        "  \"\"\"\n",
        "  sample a sequence of integers from the model\n",
        "  h is memory state, seed_ix is seed letter for first time step\n",
        "  \"\"\"\n",
        "  x = np.zeros((vocab_size, 1))\n",
        "  x[seed_ix] = 1\n",
        "  ixes = []\n",
        "  for t in range(n):\n",
        "    h = np.tanh(np.dot(Wxh, x) + np.dot(Whh, h) + bh)\n",
        "    h2= np.tanh(np.dot(Wxh2, h) + np.dot(Whh2, h2) + bh2)\n",
        "    h3= np.tanh(np.dot(Wxh3, h2) + np.dot(Whh3, h3) + bh3)\n",
        "    y = np.dot(Why, h3) + by\n",
        "    p = np.exp(y) / np.sum(np.exp(y))\n",
        "    ix = np.argmax(p)\n",
        "    x = np.zeros((vocab_size, 1))\n",
        "    x[ix] = 1\n",
        "    ixes.append(ix)\n",
        "  return ixes"
      ],
      "metadata": {
        "id": "ugS65S3eMzbJ"
      },
      "execution_count": null,
      "outputs": []
    },
    {
      "cell_type": "code",
      "source": [
        "n, p = 0, 0\n",
        "mWxh, mWhh, mWhy = np.zeros_like(Wxh), np.zeros_like(Whh), np.zeros_like(Why)\n",
        "mWxh2, mWhh2, mWxh3, mWhh3 = np.zeros_like(Wxh2), np.zeros_like(Whh2), np.zeros_like(Wxh3), np.zeros_like(Whh3)\n",
        "mbh, mbh2, mbh3, mby = np.zeros_like(bh), np.zeros_like(bh2), np.zeros_like(bh3), np.zeros_like(by) # memory variables for Adagrad\n",
        "smooth_loss = -np.log(1.0/vocab_size)*seq_length # loss at iteration 0\n",
        "losses=[]\n",
        "lr=0.01\n",
        "while n<20000:#trainig for nearly 10 epoch note I used 1_batch gradient descent\n",
        "  if p +seq_length >= len(data) or n == 0:\n",
        "    hprev = np.zeros((hidden_size,1))\n",
        "    hprev2 = np.zeros((hidden_size2,1))\n",
        "    hprev3 = np.zeros((hidden_size3,1))\n",
        "    p = 0 # go from start of data\n",
        "  inputs = [char_to_ix[ch] for ch in data[p:p+seq_length]]\n",
        "  targets = [char_to_ix[ch] for ch in data[p+1:p+seq_length+1]]\n",
        "  real_y=[char_prob[ch] for ch in data[p+1:p+seq_length+1]]\n",
        "\n",
        "  # sample from the model now and then\n",
        "  if n % 4000 == 0 or n==19999:\n",
        "    sample_ix = sample(hprev, hprev2, hprev3, inputs[0], 200)\n",
        "    txt = ''.join(ix_to_char[ix] for ix in sample_ix)\n",
        "    print ('----\\n %s \\n----' % (txt, ))\n",
        "    lr*=0.9\n",
        "\n",
        "  # forward seq_length characters through the net and fetch gradient\n",
        "  loss, dWxh, dWxh2, dWxh3, dWhh, dWhh2, dWhh3, dWhy, dbh, dbh2, dbh3, dby, hprev, hprev2, hprev3 = lossFun(inputs, targets,hprev, hprev2, hprev3)\n",
        "  smooth_loss = smooth_loss * (1-lr) + loss * lr\n",
        "  if n % 2000 == 0: #nearly equivalent to 1 epoch\n",
        "    print ('iter %d, loss: %f' % (n, smooth_loss)) # print progress\n",
        "  losses.append(smooth_loss)\n",
        "\n",
        "  # perform parameter update with Adagrad\n",
        "  for param, dparam, mem in zip([Wxh, Whh, Why, bh, by, Wxh2, Whh2, Wxh3, Whh3, bh2, bh3],\n",
        "                               [dWxh, dWhh, dWhy, dbh, dby, dWxh2, dWhh2, dWxh3, dWhh3, dbh2, dbh3],\n",
        "                               [mWxh, mWhh, mWhy, mbh, mby, mWxh2, mWhh2, mWxh3, mWhh3, mbh2, mbh3]):\n",
        "    mem += dparam * dparam\n",
        "    param += -learning_rate * dparam / (np.sqrt(mem) + 1e-8)\n",
        "\n",
        "  p += seq_length # move data pointer\n",
        "  n += 1 # iteration counter"
      ],
      "metadata": {
        "colab": {
          "base_uri": "https://localhost:8080/"
        },
        "id": "ep26dgqQM2ZW",
        "outputId": "abc218ce-92d7-43ef-8567-d5b638b202cd"
      },
      "execution_count": null,
      "outputs": [
        {
          "output_type": "stream",
          "name": "stdout",
          "text": [
            "----\n",
            " hor tot th ther the the thath the the the the the the the the the the the the the the the the the the the the the the the the the the the the the the the the the the the the the the the the the the th \n",
            "----\n",
            "iter 0, loss: 249.899410\n",
            "iter 2000, loss: 155.644634\n",
            "----\n",
            " nd the the the the the the the the the the the the the the the the the the the the the the the the the the the the the the the the the the the the the the the the the the the the the the the the the t \n",
            "----\n",
            "iter 4000, loss: 148.617375\n",
            "iter 6000, loss: 149.228152\n",
            "----\n",
            "  the the the to the the the to the the the to the the the to the the the to the the the to the the the to the the the to the the the to the the the to the the the to the the the to the the the to the  \n",
            "----\n",
            "iter 8000, loss: 146.927242\n",
            "iter 10000, loss: 145.956664\n",
            "----\n",
            "  the the the the the the the the the the the the the the the the the the the the the the the the the the the the the the the the the the the the the the the the the the the the the the the the the the \n",
            "----\n",
            "iter 12000, loss: 144.376244\n",
            "iter 14000, loss: 144.054732\n",
            "----\n",
            " t the the the  CARE: Whoul the the the  CARE: Whoul the the the  CARE: Whoul the the the  CARE: Whoul the the the  CARE: Whoul the the the  CARE: Whoul the the the  CARE: Whoul the the the  CARE: Whou \n",
            "----\n",
            "iter 16000, loss: 143.390222\n",
            "iter 18000, loss: 142.730717\n",
            "----\n",
            " he the the the the the the the the the the the the the the the the the the the the the the the the the the the the the the the the the the the the the the the the the the the the the the the the the t \n",
            "----\n"
          ]
        }
      ]
    },
    {
      "cell_type": "code",
      "source": [
        "import matplotlib.pyplot as plt\n",
        "\n",
        "plt.plot(losses)\n",
        "plt.xlabel('Iterations')\n",
        "plt.ylabel('Loss')\n",
        "plt.title('Loss over iterations')\n",
        "\n",
        "plt.xticks(range(0, len(losses), 2000))\n",
        "\n",
        "plt.show()"
      ],
      "metadata": {
        "id": "QVbXaVLsY0NB",
        "colab": {
          "base_uri": "https://localhost:8080/",
          "height": 472
        },
        "outputId": "de14d871-f7d1-4a7d-ea7c-e269fc159a1e"
      },
      "execution_count": null,
      "outputs": [
        {
          "output_type": "display_data",
          "data": {
            "text/plain": [
              "<Figure size 640x480 with 1 Axes>"
            ],
            "image/png": "[encoded data removed]"
          },
          "metadata": {}
        }
      ]
    },
    {
      "cell_type": "code",
      "source": [
        "sample_ix = sample(hprev, hprev2, hprev3, 25, 10)\n",
        "txt = ''.join(ix_to_char[ix] for ix in sample_ix)\n",
        "print ('----\\n %s \\n----' % (txt, ))"
      ],
      "metadata": {
        "colab": {
          "base_uri": "https://localhost:8080/"
        },
        "id": "-ieoxlFUWrj_",
        "outputId": "0f3a1013-32d1-4d7f-e1c9-5b6fdf1ff991"
      },
      "execution_count": null,
      "outputs": [
        {
          "output_type": "stream",
          "name": "stdout",
          "text": [
            "----\n",
            "  the the s \n",
            "----\n"
          ]
        }
      ]
    },
    {
      "cell_type": "markdown",
      "source": [
        "#Comment: we can get better results by changing data more bigger here the main objective of this code was to implement RNN from scratch"
      ],
      "metadata": {
        "id": "pXm8DiPNYG5P"
      }
    },
    {
      "cell_type": "code",
      "source": [],
      "metadata": {
        "id": "3zTdxBaTaemq"
      },
      "execution_count": null,
      "outputs": []
    }
  ]
}